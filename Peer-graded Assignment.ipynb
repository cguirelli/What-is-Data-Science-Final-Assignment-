{
  "metadata": {
    "kernelspec": {
      "name": "python",
      "display_name": "Python (Pyodide)",
      "language": "python"
    },
    "language_info": {
      "codemirror_mode": {
        "name": "python",
        "version": 3
      },
      "file_extension": ".py",
      "mimetype": "text/x-python",
      "name": "python",
      "nbconvert_exporter": "python",
      "pygments_lexer": "ipython3",
      "version": "3.8"
    }
  },
  "nbformat_minor": 5,
  "nbformat": 4,
  "cells": [
    {
      "id": "2289eae9-bf35-4283-a187-05118f0a2099",
      "cell_type": "markdown",
      "source": "# Peer-graded Assignment",
      "metadata": {}
    },
    {
      "id": "744d6dfb-06b7-40f9-8a4c-8d091492cfd8",
      "cell_type": "markdown",
      "source": "## Public Jupyter Notebook in GitHub",
      "metadata": {}
    },
    {
      "id": "f0bb1249-c7a8-407a-aa98-4339133a3c90",
      "cell_type": "markdown",
      "source": "### data science languages\n- Python\n- R\n- Julia\n- Scala\n",
      "metadata": {}
    },
    {
      "id": "3331f152-9d99-473b-be71-cbbfeb1f7d9b",
      "cell_type": "markdown",
      "source": "### data science libraries\n- **Python**\n    - Scientific Computing Libraries:\n      - Pandas\n      - Numpy\n    - Visualization:\n        - Matplotlib\n        - Seaborn\n    - Machine Learning and Deep Learning\n        - Scikit-learn\n        - Keras\n    - Deep Learning Libraries\n        - TensorFlow\n        - PyTorch\n    - \n- **Scala**\n    - Statistical data visualization\n        - Vegas\n    - Deep learning\n        - BigDL\n- **R**\n    - Visualisation\n        - ggplot2",
      "metadata": {}
    },
    {
      "id": "abc41777-d4cd-4482-9d93-31a1461f1805",
      "cell_type": "markdown",
      "source": "| Data Science Tools |\n|--------------------|\n| Jupyter Notebook |\n| RStudio |\n| Apache Spark |",
      "metadata": {}
    },
    {
      "id": "0b35b802-a901-40a4-866b-a6ebd34f59f1",
      "cell_type": "markdown",
      "source": "### arithmetic expression examples in Python\n\n##### (1 + 2)\n##### (1 - 2)\n##### (1 + 2) * 3\n##### (1 + 2) * 3 / 4\n##### (1 + 2) ** 3",
      "metadata": {}
    },
    {
      "id": "2e4bbd9b-941a-4a1b-b2c6-a724e3aac8e5",
      "cell_type": "code",
      "source": "#\n# Exercise 8 - Create a code cell to multiply and add numbers\n#\n\nprint ('Enter numbers to multiply. Press ENTER do get the final result')\n\nx = 1\ninput_number = 1\nwhile input_number != \"\":\n    x = x * float(input_number)\n    input_number = input(\"Enter a number \")\nprint(x)\n\nprint ('Enter numbers to add. Press ENTER do get the final result')\n\nx = 0\ninput_number = 0\nwhile input_number != \"\":\n    x = x + float(input_number)\n    input_number = input(\"Enter a number \")\nprint(x)",
      "metadata": {
        "trusted": true
      },
      "outputs": [
        {
          "name": "stdout",
          "output_type": "stream",
          "text": "Enter numbers to multiply. Press ENTER do get the final result\n"
        },
        {
          "output_type": "stream",
          "name": "stdin",
          "text": "Enter a number  3\nEnter a number  4\nEnter a number  \n"
        },
        {
          "name": "stdout",
          "output_type": "stream",
          "text": "12.0\nEnter numbers to add. Press ENTER do get the final result\n"
        },
        {
          "output_type": "stream",
          "name": "stdin",
          "text": "Enter a number  5\nEnter a number  6\nEnter a number  \n"
        },
        {
          "name": "stdout",
          "output_type": "stream",
          "text": "11.0\n"
        }
      ],
      "execution_count": 2
    },
    {
      "id": "5978f2d6-4aa7-414d-9fda-a2d0b4de0f21",
      "cell_type": "code",
      "source": "# Exercise 9 - Create a code cell to convert minutes to hours\nminutes = input(\"How many minutes you want to convert to hour? \")\nhours = float(minutes) / 60\nprint(f\"{minutes} minutes is the same as {hours:.2f} hours\")",
      "metadata": {
        "trusted": true
      },
      "outputs": [
        {
          "output_type": "stream",
          "name": "stdin",
          "text": "How many minutes you want to convert to hour?  485\n"
        },
        {
          "name": "stdout",
          "output_type": "stream",
          "text": "485 minutes is the same as 8.08 hours\n"
        }
      ],
      "execution_count": 3
    },
    {
      "id": "948974c0-333d-4efa-93cb-8c92fdcf60b2",
      "cell_type": "markdown",
      "source": "### Objectives\n\n- learn the basics of languages and tools for data science\n- create and share a Notebook\n- Use Markdown and code cells in the notebook",
      "metadata": {}
    },
    {
      "id": "c3d8af58-57ec-4f7e-9a85-33fe6e3ac466",
      "cell_type": "markdown",
      "source": "### Created by Cleber R. Guirelli",
      "metadata": {}
    },
    {
      "id": "7dc02317-cf71-49a1-a776-29e7b0b20010",
      "cell_type": "code",
      "source": "",
      "metadata": {
        "trusted": true
      },
      "outputs": [],
      "execution_count": null
    }
  ]
}